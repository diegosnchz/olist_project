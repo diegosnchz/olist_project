{
 "cells": [
  {
   "cell_type": "code",
   "execution_count": 1,
   "id": "e4d96dab",
   "metadata": {},
   "outputs": [],
   "source": [
    "import pandas as pd\n",
    "from  sqlalchemy import create_engine\n",
    "import os"
   ]
  },
  {
   "cell_type": "code",
   "execution_count": 2,
   "id": "ac7e1403",
   "metadata": {},
   "outputs": [],
   "source": [
    "# Reemplaza con tus propios datos\n",
    "user = 'root'\n",
    "password = 'yaris'  # La contraseña que estableciste al instalar MySQL\n",
    "host = '127.0.0.1'  # O 'localhost'\n",
    "database = 'olist_db' # El nombre de la base de datos que creaste\n",
    "\n",
    "# Creamos la cadena de conexión\n",
    "connection_string = f\"mysql+mysqlconnector://{user}:{password}@{host}/{database}\"\n",
    "\n",
    "# Creamos el motor de conexión con SQLAlchemy\n",
    "engine = create_engine(connection_string)"
   ]
  },
  {
   "cell_type": "code",
   "execution_count": 3,
   "id": "746479f5",
   "metadata": {},
   "outputs": [
    {
     "name": "stdout",
     "output_type": "stream",
     "text": [
      "¡Motor de conexión a MySQL creado con éxito!\n"
     ]
    }
   ],
   "source": [
    "# Importamos las librerías necesarias\n",
    "import pandas as pd\n",
    "from sqlalchemy import create_engine\n",
    "import os\n",
    "\n",
    "# --- CONFIGURA TUS DATOS AQUÍ ---\n",
    "user = 'root'\n",
    "password = 'yaris'  \n",
    "host = '127.0.0.1'                  \n",
    "database = 'olist_db'               \n",
    "\n",
    "# --- CREAMOS EL MOTOR DE CONEXIÓN ---\n",
    "connection_string = f\"mysql+mysqlconnector://{user}:{password}@{host}/{database}\"\n",
    "engine = create_engine(connection_string)\n",
    "\n",
    "# Mensaje de confirmación (si no hay error, todo bien)\n",
    "print(\"¡Motor de conexión a MySQL creado con éxito!\")"
   ]
  },
  {
   "cell_type": "code",
   "execution_count": null,
   "id": "2b9b6c58",
   "metadata": {},
   "outputs": [
    {
     "name": "stdout",
     "output_type": "stream",
     "text": [
      "\n",
      "--- Tablas creadas en la base de datos 'olist_db' ---\n",
      "                  Tables_in_olist_db\n",
      "0                          customers\n",
      "1                        geolocation\n",
      "2                        order_items\n",
      "3                     order_payments\n",
      "4                      order_reviews\n",
      "5                             orders\n",
      "6  product_category_name_translation\n",
      "7                           products\n",
      "8                            sellers\n"
     ]
    }
   ],
   "source": [
    "# Verificamos las tablas que se han creado en MySQL\n",
    "query = \"SHOW TABLES;\"\n",
    "tables_df = pd.read_sql(query, engine)\n",
    "\n",
    "print(\"\\n--- Tablas creadas en la base de datos 'olist_db' ---\")\n",
    "print(tables_df)"
   ]
  },
  {
   "cell_type": "code",
   "execution_count": 7,
   "id": "ebc4f2cd",
   "metadata": {},
   "outputs": [
    {
     "name": "stdout",
     "output_type": "stream",
     "text": [
      "DataFrame combinado de Pedidos y Clientes:\n"
     ]
    },
    {
     "data": {
      "text/html": [
       "<div>\n",
       "<style scoped>\n",
       "    .dataframe tbody tr th:only-of-type {\n",
       "        vertical-align: middle;\n",
       "    }\n",
       "\n",
       "    .dataframe tbody tr th {\n",
       "        vertical-align: top;\n",
       "    }\n",
       "\n",
       "    .dataframe thead th {\n",
       "        text-align: right;\n",
       "    }\n",
       "</style>\n",
       "<table border=\"1\" class=\"dataframe\">\n",
       "  <thead>\n",
       "    <tr style=\"text-align: right;\">\n",
       "      <th></th>\n",
       "      <th>order_id</th>\n",
       "      <th>order_status</th>\n",
       "      <th>customer_id</th>\n",
       "      <th>customer_unique_id</th>\n",
       "      <th>customer_city</th>\n",
       "      <th>customer_state</th>\n",
       "    </tr>\n",
       "  </thead>\n",
       "  <tbody>\n",
       "    <tr>\n",
       "      <th>0</th>\n",
       "      <td>47770eb9100c2d0c44946d9cf07ec65d</td>\n",
       "      <td>delivered</td>\n",
       "      <td>41ce2a54c0b03bf3443c3d931a367089</td>\n",
       "      <td>3a653a41f6f9fc3d2a113cf8398680e8</td>\n",
       "      <td>vianopolis</td>\n",
       "      <td>GO</td>\n",
       "    </tr>\n",
       "    <tr>\n",
       "      <th>1</th>\n",
       "      <td>82566a660a982b15fb86e904c8d32918</td>\n",
       "      <td>delivered</td>\n",
       "      <td>d3e3b74c766bc6214e0c830b17ee2341</td>\n",
       "      <td>e97109680b052ee858d93a539597bba7</td>\n",
       "      <td>ouro preto</td>\n",
       "      <td>MG</td>\n",
       "    </tr>\n",
       "    <tr>\n",
       "      <th>2</th>\n",
       "      <td>dcb36b511fcac050b97cd5c05de84dc3</td>\n",
       "      <td>delivered</td>\n",
       "      <td>3b6828a50ffe546942b7a473d70ac0fc</td>\n",
       "      <td>ccafc1c3f270410521c3c6f3b249870f</td>\n",
       "      <td>goiania</td>\n",
       "      <td>GO</td>\n",
       "    </tr>\n",
       "    <tr>\n",
       "      <th>3</th>\n",
       "      <td>83018ec114eee8641c97e08f7b4e926f</td>\n",
       "      <td>delivered</td>\n",
       "      <td>7f8c8b9c2ae27bf3300f670c3d478be8</td>\n",
       "      <td>634f09f6075fe9032e6c19609ffe995a</td>\n",
       "      <td>feira de santana</td>\n",
       "      <td>BA</td>\n",
       "    </tr>\n",
       "    <tr>\n",
       "      <th>4</th>\n",
       "      <td>203096f03d82e0dffbc41ebc2e2bcfb7</td>\n",
       "      <td>delivered</td>\n",
       "      <td>d2b091571da224a1b36412c18bc3bbfe</td>\n",
       "      <td>d699688533772c15a061e8ce81cb56df</td>\n",
       "      <td>sao paulo</td>\n",
       "      <td>SP</td>\n",
       "    </tr>\n",
       "  </tbody>\n",
       "</table>\n",
       "</div>"
      ],
      "text/plain": [
       "                           order_id order_status  \\\n",
       "0  47770eb9100c2d0c44946d9cf07ec65d    delivered   \n",
       "1  82566a660a982b15fb86e904c8d32918    delivered   \n",
       "2  dcb36b511fcac050b97cd5c05de84dc3    delivered   \n",
       "3  83018ec114eee8641c97e08f7b4e926f    delivered   \n",
       "4  203096f03d82e0dffbc41ebc2e2bcfb7    delivered   \n",
       "\n",
       "                        customer_id                customer_unique_id  \\\n",
       "0  41ce2a54c0b03bf3443c3d931a367089  3a653a41f6f9fc3d2a113cf8398680e8   \n",
       "1  d3e3b74c766bc6214e0c830b17ee2341  e97109680b052ee858d93a539597bba7   \n",
       "2  3b6828a50ffe546942b7a473d70ac0fc  ccafc1c3f270410521c3c6f3b249870f   \n",
       "3  7f8c8b9c2ae27bf3300f670c3d478be8  634f09f6075fe9032e6c19609ffe995a   \n",
       "4  d2b091571da224a1b36412c18bc3bbfe  d699688533772c15a061e8ce81cb56df   \n",
       "\n",
       "      customer_city customer_state  \n",
       "0        vianopolis             GO  \n",
       "1        ouro preto             MG  \n",
       "2           goiania             GO  \n",
       "3  feira de santana             BA  \n",
       "4         sao paulo             SP  "
      ]
     },
     "execution_count": 7,
     "metadata": {},
     "output_type": "execute_result"
    }
   ],
   "source": [
    "# 1. Define la nueva consulta SQL para unir las tablas\n",
    "query_pedidos_clientes = \"\"\"\n",
    "SELECT\n",
    "    o.order_id,\n",
    "    o.order_status,\n",
    "    c.customer_id,\n",
    "    c.customer_unique_id,\n",
    "    c.customer_city,\n",
    "    c.customer_state\n",
    "FROM\n",
    "    orders AS o\n",
    "LEFT JOIN\n",
    "    customers AS c ON o.customer_id = c.customer_id\n",
    "\"\"\"\n",
    "\n",
    "# 2. Ejecuta esa consulta específica y guárdala en un nuevo DataFrame\n",
    "df_pedidos_clientes = pd.read_sql(query_pedidos_clientes, engine)\n",
    "\n",
    "# 3. Muestra las primeras filas del resultado para verificar\n",
    "print(\"DataFrame combinado de Pedidos y Clientes:\")\n",
    "df_pedidos_clientes.head()"
   ]
  },
  {
   "cell_type": "code",
   "execution_count": 8,
   "id": "011b67d8",
   "metadata": {},
   "outputs": [
    {
     "name": "stdout",
     "output_type": "stream",
     "text": [
      "Index(['order_id', 'order_status', 'customer_id', 'customer_unique_id',\n",
      "       'customer_city', 'customer_state'],\n",
      "      dtype='object')\n"
     ]
    }
   ],
   "source": [
    "print(df_pedidos_clientes.columns)"
   ]
  }
 ],
 "metadata": {
  "kernelspec": {
   "display_name": "Python 3",
   "language": "python",
   "name": "python3"
  },
  "language_info": {
   "codemirror_mode": {
    "name": "ipython",
    "version": 3
   },
   "file_extension": ".py",
   "mimetype": "text/x-python",
   "name": "python",
   "nbconvert_exporter": "python",
   "pygments_lexer": "ipython3",
   "version": "3.13.3"
  }
 },
 "nbformat": 4,
 "nbformat_minor": 5
}
