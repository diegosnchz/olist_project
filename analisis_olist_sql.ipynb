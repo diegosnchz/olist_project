{
 "cells": [
  {
   "cell_type": "code",
   "execution_count": 4,
   "id": "e4d96dab",
   "metadata": {},
   "outputs": [],
   "source": [
    "import pandas as pd\n",
    "from  sqlalchemy import create_engine\n",
    "import os"
   ]
  },
  {
   "cell_type": "code",
   "execution_count": 10,
   "id": "ac7e1403",
   "metadata": {},
   "outputs": [],
   "source": [
    "# Reemplaza con tus propios datos\n",
    "user = 'root'\n",
    "password = 'yaris'  # La contraseña que estableciste al instalar MySQL\n",
    "host = '127.0.0.1'  # O 'localhost'\n",
    "database = 'olist_db' # El nombre de la base de datos que creaste\n",
    "\n",
    "# Creamos la cadena de conexión\n",
    "connection_string = f\"mysql+mysqlconnector://{user}:{password}@{host}/{database}\"\n",
    "\n",
    "# Creamos el motor de conexión con SQLAlchemy\n",
    "engine = create_engine(connection_string)"
   ]
  },
  {
   "cell_type": "code",
   "execution_count": 8,
   "id": "746479f5",
   "metadata": {},
   "outputs": [
    {
     "name": "stdout",
     "output_type": "stream",
     "text": [
      "¡Motor de conexión a MySQL creado con éxito!\n"
     ]
    }
   ],
   "source": [
    "# Importamos las librerías necesarias\n",
    "import pandas as pd\n",
    "from sqlalchemy import create_engine\n",
    "import os\n",
    "\n",
    "# --- CONFIGURA TUS DATOS AQUÍ ---\n",
    "user = 'root'\n",
    "password = 'yaris'  # ¡Cambia esto por tu contraseña real!\n",
    "host = '127.0.0.1'                  # O 'localhost'\n",
    "database = 'olist_db'               # El nombre de tu base de datos\n",
    "\n",
    "# --- CREAMOS EL MOTOR DE CONEXIÓN ---\n",
    "connection_string = f\"mysql+mysqlconnector://{user}:{password}@{host}/{database}\"\n",
    "engine = create_engine(connection_string)\n",
    "\n",
    "# Mensaje de confirmación (si no hay error, todo bien)\n",
    "print(\"¡Motor de conexión a MySQL creado con éxito!\")"
   ]
  },
  {
   "cell_type": "code",
   "execution_count": 10,
   "id": "2b9b6c58",
   "metadata": {},
   "outputs": [
    {
     "name": "stdout",
     "output_type": "stream",
     "text": [
      "\n",
      "--- Tablas creadas en la base de datos 'olist_db' ---\n",
      "                  Tables_in_olist_db\n",
      "0                          customers\n",
      "1                        geolocation\n",
      "2                        order_items\n",
      "3                     order_payments\n",
      "4                      order_reviews\n",
      "5                             orders\n",
      "6  product_category_name_translation\n",
      "7                           products\n",
      "8                            sellers\n"
     ]
    }
   ],
   "source": [
    "# Verificamos las tablas que se han creado en MySQL\n",
    "query = \"SHOW TABLES;\"\n",
    "tables_df = pd.read_sql(query, engine)\n",
    "\n",
    "print(\"\\n--- Tablas creadas en la base de datos 'olist_db' ---\")\n",
    "print(tables_df)"
   ]
  },
  {
   "cell_type": "code",
   "execution_count": 11,
   "id": "ebc4f2cd",
   "metadata": {},
   "outputs": [
    {
     "data": {
      "text/html": [
       "<div>\n",
       "<style scoped>\n",
       "    .dataframe tbody tr th:only-of-type {\n",
       "        vertical-align: middle;\n",
       "    }\n",
       "\n",
       "    .dataframe tbody tr th {\n",
       "        vertical-align: top;\n",
       "    }\n",
       "\n",
       "    .dataframe thead th {\n",
       "        text-align: right;\n",
       "    }\n",
       "</style>\n",
       "<table border=\"1\" class=\"dataframe\">\n",
       "  <thead>\n",
       "    <tr style=\"text-align: right;\">\n",
       "      <th></th>\n",
       "      <th>Tables_in_olist_db</th>\n",
       "    </tr>\n",
       "  </thead>\n",
       "  <tbody>\n",
       "    <tr>\n",
       "      <th>0</th>\n",
       "      <td>customers</td>\n",
       "    </tr>\n",
       "    <tr>\n",
       "      <th>1</th>\n",
       "      <td>geolocation</td>\n",
       "    </tr>\n",
       "    <tr>\n",
       "      <th>2</th>\n",
       "      <td>order_items</td>\n",
       "    </tr>\n",
       "    <tr>\n",
       "      <th>3</th>\n",
       "      <td>order_payments</td>\n",
       "    </tr>\n",
       "    <tr>\n",
       "      <th>4</th>\n",
       "      <td>order_reviews</td>\n",
       "    </tr>\n",
       "  </tbody>\n",
       "</table>\n",
       "</div>"
      ],
      "text/plain": [
       "  Tables_in_olist_db\n",
       "0          customers\n",
       "1        geolocation\n",
       "2        order_items\n",
       "3     order_payments\n",
       "4      order_reviews"
      ]
     },
     "execution_count": 11,
     "metadata": {},
     "output_type": "execute_result"
    }
   ],
   "source": [
    "# Usamos pd.read_sql para ejecutar la consulta y obtener un DataFrame\n",
    "df_pedidos_clientes = pd.read_sql(query, engine)\n",
    "\n",
    "# Echamos un vistazo al resultado\n",
    "df_pedidos_clientes.head()"
   ]
  }
 ],
 "metadata": {
  "kernelspec": {
   "display_name": "Python 3",
   "language": "python",
   "name": "python3"
  },
  "language_info": {
   "codemirror_mode": {
    "name": "ipython",
    "version": 3
   },
   "file_extension": ".py",
   "mimetype": "text/x-python",
   "name": "python",
   "nbconvert_exporter": "python",
   "pygments_lexer": "ipython3",
   "version": "3.13.3"
  }
 },
 "nbformat": 4,
 "nbformat_minor": 5
}
