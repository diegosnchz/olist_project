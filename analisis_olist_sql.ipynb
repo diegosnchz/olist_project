{
 "cells": [
  {
   "cell_type": "code",
   "execution_count": 1,
   "id": "e4d96dab",
   "metadata": {},
   "outputs": [],
   "source": [
    "import pandas as pd\n",
    "from  sqlalchemy import create_engine\n",
    "import os"
   ]
  },
  {
   "cell_type": "code",
   "execution_count": 2,
   "id": "ac7e1403",
   "metadata": {},
   "outputs": [],
   "source": [
    "# Reemplaza con tus propios datos\n",
    "user = 'root'\n",
    "password = 'yaris'  # La contraseña que estableciste al instalar MySQL\n",
    "host = '127.0.0.1'  # O 'localhost'\n",
    "database = 'olist_db' # El nombre de la base de datos que creaste\n",
    "\n",
    "# Creamos la cadena de conexión\n",
    "connection_string = f\"mysql+mysqlconnector://{user}:{password}@{host}/{database}\"\n",
    "\n",
    "# Creamos el motor de conexión con SQLAlchemy\n",
    "engine = create_engine(connection_string)"
   ]
  },
  {
   "cell_type": "code",
   "execution_count": 3,
   "id": "746479f5",
   "metadata": {},
   "outputs": [
    {
     "name": "stdout",
     "output_type": "stream",
     "text": [
      "¡Motor de conexión a MySQL creado con éxito!\n"
     ]
    }
   ],
   "source": [
    "# Importamos las librerías necesarias\n",
    "import pandas as pd\n",
    "from sqlalchemy import create_engine\n",
    "import os\n",
    "\n",
    "# --- CONFIGURA TUS DATOS AQUÍ ---\n",
    "user = 'root'\n",
    "password = 'yaris'  \n",
    "host = '127.0.0.1'                  \n",
    "database = 'olist_db'               \n",
    "\n",
    "# --- CREAMOS EL MOTOR DE CONEXIÓN ---\n",
    "connection_string = f\"mysql+mysqlconnector://{user}:{password}@{host}/{database}\"\n",
    "engine = create_engine(connection_string)\n",
    "\n",
    "# Mensaje de confirmación (si no hay error, todo bien)\n",
    "print(\"¡Motor de conexión a MySQL creado con éxito!\")"
   ]
  },
  {
   "cell_type": "code",
   "execution_count": null,
   "id": "2b9b6c58",
   "metadata": {},
   "outputs": [
    {
     "name": "stdout",
     "output_type": "stream",
     "text": [
      "\n",
      "--- Tablas creadas en la base de datos 'olist_db' ---\n",
      "                  Tables_in_olist_db\n",
      "0                          customers\n",
      "1                        geolocation\n",
      "2                        order_items\n",
      "3                     order_payments\n",
      "4                      order_reviews\n",
      "5                             orders\n",
      "6  product_category_name_translation\n",
      "7                           products\n",
      "8                            sellers\n"
     ]
    }
   ],
   "source": [
    "# Verificamos las tablas que se han creado en MySQL\n",
    "query = \"SHOW TABLES;\"\n",
    "tables_df = pd.read_sql(query, engine)\n",
    "\n",
    "print(\"\\n--- Tablas creadas en la base de datos 'olist_db' ---\")\n",
    "print(tables_df)"
   ]
  },
  {
   "cell_type": "code",
   "execution_count": 9,
   "id": "ebc4f2cd",
   "metadata": {},
   "outputs": [
    {
     "name": "stdout",
     "output_type": "stream",
     "text": [
      "DataFrame combinado de Pedidos y Clientes:\n"
     ]
    },
    {
     "data": {
      "text/html": [
       "<div>\n",
       "<style scoped>\n",
       "    .dataframe tbody tr th:only-of-type {\n",
       "        vertical-align: middle;\n",
       "    }\n",
       "\n",
       "    .dataframe tbody tr th {\n",
       "        vertical-align: top;\n",
       "    }\n",
       "\n",
       "    .dataframe thead th {\n",
       "        text-align: right;\n",
       "    }\n",
       "</style>\n",
       "<table border=\"1\" class=\"dataframe\">\n",
       "  <thead>\n",
       "    <tr style=\"text-align: right;\">\n",
       "      <th></th>\n",
       "      <th>order_id</th>\n",
       "      <th>order_status</th>\n",
       "      <th>customer_id</th>\n",
       "      <th>customer_unique_id</th>\n",
       "      <th>customer_city</th>\n",
       "      <th>customer_state</th>\n",
       "    </tr>\n",
       "  </thead>\n",
       "  <tbody>\n",
       "    <tr>\n",
       "      <th>0</th>\n",
       "      <td>47770eb9100c2d0c44946d9cf07ec65d</td>\n",
       "      <td>delivered</td>\n",
       "      <td>41ce2a54c0b03bf3443c3d931a367089</td>\n",
       "      <td>3a653a41f6f9fc3d2a113cf8398680e8</td>\n",
       "      <td>vianopolis</td>\n",
       "      <td>GO</td>\n",
       "    </tr>\n",
       "    <tr>\n",
       "      <th>1</th>\n",
       "      <td>82566a660a982b15fb86e904c8d32918</td>\n",
       "      <td>delivered</td>\n",
       "      <td>d3e3b74c766bc6214e0c830b17ee2341</td>\n",
       "      <td>e97109680b052ee858d93a539597bba7</td>\n",
       "      <td>ouro preto</td>\n",
       "      <td>MG</td>\n",
       "    </tr>\n",
       "    <tr>\n",
       "      <th>2</th>\n",
       "      <td>dcb36b511fcac050b97cd5c05de84dc3</td>\n",
       "      <td>delivered</td>\n",
       "      <td>3b6828a50ffe546942b7a473d70ac0fc</td>\n",
       "      <td>ccafc1c3f270410521c3c6f3b249870f</td>\n",
       "      <td>goiania</td>\n",
       "      <td>GO</td>\n",
       "    </tr>\n",
       "    <tr>\n",
       "      <th>3</th>\n",
       "      <td>83018ec114eee8641c97e08f7b4e926f</td>\n",
       "      <td>delivered</td>\n",
       "      <td>7f8c8b9c2ae27bf3300f670c3d478be8</td>\n",
       "      <td>634f09f6075fe9032e6c19609ffe995a</td>\n",
       "      <td>feira de santana</td>\n",
       "      <td>BA</td>\n",
       "    </tr>\n",
       "    <tr>\n",
       "      <th>4</th>\n",
       "      <td>203096f03d82e0dffbc41ebc2e2bcfb7</td>\n",
       "      <td>delivered</td>\n",
       "      <td>d2b091571da224a1b36412c18bc3bbfe</td>\n",
       "      <td>d699688533772c15a061e8ce81cb56df</td>\n",
       "      <td>sao paulo</td>\n",
       "      <td>SP</td>\n",
       "    </tr>\n",
       "  </tbody>\n",
       "</table>\n",
       "</div>"
      ],
      "text/plain": [
       "                           order_id order_status  \\\n",
       "0  47770eb9100c2d0c44946d9cf07ec65d    delivered   \n",
       "1  82566a660a982b15fb86e904c8d32918    delivered   \n",
       "2  dcb36b511fcac050b97cd5c05de84dc3    delivered   \n",
       "3  83018ec114eee8641c97e08f7b4e926f    delivered   \n",
       "4  203096f03d82e0dffbc41ebc2e2bcfb7    delivered   \n",
       "\n",
       "                        customer_id                customer_unique_id  \\\n",
       "0  41ce2a54c0b03bf3443c3d931a367089  3a653a41f6f9fc3d2a113cf8398680e8   \n",
       "1  d3e3b74c766bc6214e0c830b17ee2341  e97109680b052ee858d93a539597bba7   \n",
       "2  3b6828a50ffe546942b7a473d70ac0fc  ccafc1c3f270410521c3c6f3b249870f   \n",
       "3  7f8c8b9c2ae27bf3300f670c3d478be8  634f09f6075fe9032e6c19609ffe995a   \n",
       "4  d2b091571da224a1b36412c18bc3bbfe  d699688533772c15a061e8ce81cb56df   \n",
       "\n",
       "      customer_city customer_state  \n",
       "0        vianopolis             GO  \n",
       "1        ouro preto             MG  \n",
       "2           goiania             GO  \n",
       "3  feira de santana             BA  \n",
       "4         sao paulo             SP  "
      ]
     },
     "execution_count": 9,
     "metadata": {},
     "output_type": "execute_result"
    }
   ],
   "source": [
    "# 1. Define la nueva consulta SQL para unir las tablas\n",
    "query_pedidos_clientes = \"\"\"\n",
    "SELECT\n",
    "    o.order_id,\n",
    "    o.order_status,\n",
    "    c.customer_id,\n",
    "    c.customer_unique_id,\n",
    "    c.customer_city,\n",
    "    c.customer_state\n",
    "FROM\n",
    "    orders AS o\n",
    "LEFT JOIN\n",
    "    customers AS c ON o.customer_id = c.customer_id\n",
    "\"\"\"\n",
    "\n",
    "# 2. Ejecuta esa consulta específica y guárdala en un nuevo DataFrame\n",
    "df_pedidos_clientes = pd.read_sql(query_pedidos_clientes, engine)\n",
    "\n",
    "# 3. Muestra las primeras filas del resultado para verificar\n",
    "print(\"DataFrame combinado de Pedidos y Clientes:\")\n",
    "df_pedidos_clientes.head()"
   ]
  },
  {
   "cell_type": "code",
   "execution_count": 10,
   "id": "011b67d8",
   "metadata": {},
   "outputs": [
    {
     "name": "stdout",
     "output_type": "stream",
     "text": [
      "Index(['order_id', 'order_status', 'customer_id', 'customer_unique_id',\n",
      "       'customer_city', 'customer_state'],\n",
      "      dtype='object')\n"
     ]
    }
   ],
   "source": [
    "print(df_pedidos_clientes.columns)"
   ]
  },
  {
   "cell_type": "code",
   "execution_count": 13,
   "id": "ddbf43aa",
   "metadata": {},
   "outputs": [
    {
     "name": "stdout",
     "output_type": "stream",
     "text": [
      "Top 10 estados por número de pedidos\n",
      "customer_state\n",
      "SP    41746\n",
      "RJ    12852\n",
      "MG    11635\n",
      "RS     5466\n",
      "PR     5045\n",
      "SC     3637\n",
      "BA     3380\n",
      "DF     2140\n",
      "ES     2033\n",
      "GO     2020\n",
      "Name: count, dtype: int64\n"
     ]
    }
   ],
   "source": [
    "conteo_por_estado = df_pedidos_clientes['customer_state'].value_counts()\n",
    "print(\"Top 10 estados por número de pedidos\")\n",
    "print (conteo_por_estado.head(10))"
   ]
  },
  {
   "cell_type": "code",
   "execution_count": 16,
   "id": "d4d46298",
   "metadata": {},
   "outputs": [
    {
     "data": {
      "image/png": "[encoded data removed]",
      "text/plain": [
       "<Figure size 1500x800 with 1 Axes>"
      ]
     },
     "metadata": {},
     "output_type": "display_data"
    }
   ],
   "source": [
    "# Importamos las librerías\n",
    "import matplotlib.pyplot as plt\n",
    "import seaborn as sns\n",
    "\n",
    "# Configuramos el tamaño del gráfico para que sea más grande y legible\n",
    "plt.figure(figsize=(15, 8))\n",
    "\n",
    "# Creamos el gráfico de barras con Seaborn (corregido para evitar el warning)\n",
    "sns.barplot(x=conteo_por_estado.index, y=conteo_por_estado.values, hue=conteo_por_estado.index, palette='viridis', legend=False)\n",
    "\n",
    "# Añadimos títulos y etiquetas para que sea profesional\n",
    "plt.title('Número de Pedidos por Estado en Olist', fontsize=16)\n",
    "plt.xlabel('Estado', fontsize=12)\n",
    "plt.ylabel('Cantidad de Pedidos', fontsize=12)\n",
    "plt.xticks(rotation=45) # Rotamos las etiquetas del eje X para que no se solapen\n",
    "\n",
    "# Mostramos el gráfico\n",
    "plt.show()"
   ]
  },
  {
   "cell_type": "code",
   "execution_count": 18,
   "id": "7564e27b",
   "metadata": {},
   "outputs": [
    {
     "name": "stdout",
     "output_type": "stream",
     "text": [
      "DataFrame final para Power BI:\n"
     ]
    },
    {
     "data": {
      "text/html": [
       "<div>\n",
       "<style scoped>\n",
       "    .dataframe tbody tr th:only-of-type {\n",
       "        vertical-align: middle;\n",
       "    }\n",
       "\n",
       "    .dataframe tbody tr th {\n",
       "        vertical-align: top;\n",
       "    }\n",
       "\n",
       "    .dataframe thead th {\n",
       "        text-align: right;\n",
       "    }\n",
       "</style>\n",
       "<table border=\"1\" class=\"dataframe\">\n",
       "  <thead>\n",
       "    <tr style=\"text-align: right;\">\n",
       "      <th></th>\n",
       "      <th>order_id</th>\n",
       "      <th>order_status</th>\n",
       "      <th>order_purchase_timestamp</th>\n",
       "      <th>product_id</th>\n",
       "      <th>price</th>\n",
       "      <th>freight_value</th>\n",
       "      <th>customer_unique_id</th>\n",
       "      <th>customer_city</th>\n",
       "      <th>customer_state</th>\n",
       "    </tr>\n",
       "  </thead>\n",
       "  <tbody>\n",
       "    <tr>\n",
       "      <th>0</th>\n",
       "      <td>02645c905eb7d1591a679f9bc3b669fd</td>\n",
       "      <td>delivered</td>\n",
       "      <td>2018-01-26 16:09:11</td>\n",
       "      <td>9f1c3e71d56894398a42b050b07f1baa</td>\n",
       "      <td>12.77</td>\n",
       "      <td>7.78</td>\n",
       "      <td>2aa9325eab1676f4d62830f004d67a34</td>\n",
       "      <td>sao jose dos campos</td>\n",
       "      <td>SP</td>\n",
       "    </tr>\n",
       "    <tr>\n",
       "      <th>1</th>\n",
       "      <td>001c85b5f68d2be0cb0797afc9e8ce9a</td>\n",
       "      <td>delivered</td>\n",
       "      <td>2017-11-24 19:19:18</td>\n",
       "      <td>84f456958365164420cfc80fbe4c7fab</td>\n",
       "      <td>99.00</td>\n",
       "      <td>13.71</td>\n",
       "      <td>55a269f324455e78349e7b9b7e7e5911</td>\n",
       "      <td>sao paulo</td>\n",
       "      <td>SP</td>\n",
       "    </tr>\n",
       "    <tr>\n",
       "      <th>2</th>\n",
       "      <td>02ea547b6d2ee25305588fd50df58b46</td>\n",
       "      <td>shipped</td>\n",
       "      <td>2017-03-23 22:03:43</td>\n",
       "      <td>b000447e24e31a4d7e628ca4d0622131</td>\n",
       "      <td>23.99</td>\n",
       "      <td>15.65</td>\n",
       "      <td>70a2aece5345a514bf960b01975aaa60</td>\n",
       "      <td>porto alegre</td>\n",
       "      <td>RS</td>\n",
       "    </tr>\n",
       "    <tr>\n",
       "      <th>3</th>\n",
       "      <td>03054d8a8eefc2981cfad06f58e27979</td>\n",
       "      <td>delivered</td>\n",
       "      <td>2017-10-02 10:25:22</td>\n",
       "      <td>3e31fd1419cc4cd6adad1925e72e3a03</td>\n",
       "      <td>58.90</td>\n",
       "      <td>15.16</td>\n",
       "      <td>d46eb9ba6d6b75c1dac85b91911fc9c2</td>\n",
       "      <td>sao paulo</td>\n",
       "      <td>SP</td>\n",
       "    </tr>\n",
       "    <tr>\n",
       "      <th>4</th>\n",
       "      <td>03ab852861cd75d0a9225c92a3354a3a</td>\n",
       "      <td>delivered</td>\n",
       "      <td>2017-12-10 10:03:25</td>\n",
       "      <td>374fb6698c278b6af1c7b7c8fb95585e</td>\n",
       "      <td>115.00</td>\n",
       "      <td>8.06</td>\n",
       "      <td>b525978184c53a6051f72e2343ffce0e</td>\n",
       "      <td>santos</td>\n",
       "      <td>SP</td>\n",
       "    </tr>\n",
       "  </tbody>\n",
       "</table>\n",
       "</div>"
      ],
      "text/plain": [
       "                           order_id order_status order_purchase_timestamp  \\\n",
       "0  02645c905eb7d1591a679f9bc3b669fd    delivered      2018-01-26 16:09:11   \n",
       "1  001c85b5f68d2be0cb0797afc9e8ce9a    delivered      2017-11-24 19:19:18   \n",
       "2  02ea547b6d2ee25305588fd50df58b46      shipped      2017-03-23 22:03:43   \n",
       "3  03054d8a8eefc2981cfad06f58e27979    delivered      2017-10-02 10:25:22   \n",
       "4  03ab852861cd75d0a9225c92a3354a3a    delivered      2017-12-10 10:03:25   \n",
       "\n",
       "                         product_id   price  freight_value  \\\n",
       "0  9f1c3e71d56894398a42b050b07f1baa   12.77           7.78   \n",
       "1  84f456958365164420cfc80fbe4c7fab   99.00          13.71   \n",
       "2  b000447e24e31a4d7e628ca4d0622131   23.99          15.65   \n",
       "3  3e31fd1419cc4cd6adad1925e72e3a03   58.90          15.16   \n",
       "4  374fb6698c278b6af1c7b7c8fb95585e  115.00           8.06   \n",
       "\n",
       "                 customer_unique_id        customer_city customer_state  \n",
       "0  2aa9325eab1676f4d62830f004d67a34  sao jose dos campos             SP  \n",
       "1  55a269f324455e78349e7b9b7e7e5911            sao paulo             SP  \n",
       "2  70a2aece5345a514bf960b01975aaa60         porto alegre             RS  \n",
       "3  d46eb9ba6d6b75c1dac85b91911fc9c2            sao paulo             SP  \n",
       "4  b525978184c53a6051f72e2343ffce0e               santos             SP  "
      ]
     },
     "execution_count": 18,
     "metadata": {},
     "output_type": "execute_result"
    }
   ],
   "source": [
    "# En una nueva celda\n",
    "query_completa = \"\"\"\n",
    "SELECT\n",
    "    o.order_id,\n",
    "    o.order_status,\n",
    "    o.order_purchase_timestamp, -- ¡Añadimos la fecha de compra!\n",
    "    oi.product_id,\n",
    "    oi.price, -- ¡Añadimos el precio del item!\n",
    "    oi.freight_value, -- Y el coste del envío\n",
    "    c.customer_unique_id,\n",
    "    c.customer_city,\n",
    "    c.customer_state\n",
    "FROM\n",
    "    orders AS o\n",
    "LEFT JOIN\n",
    "    customers AS c ON o.customer_id = c.customer_id\n",
    "LEFT JOIN\n",
    "    order_items AS oi ON o.order_id = oi.order_id\n",
    "\"\"\"\n",
    "\n",
    "# Ejecutamos la consulta y la guardamos en un DataFrame final\n",
    "df_para_powerbi = pd.read_sql(query_completa, engine)\n",
    "\n",
    "# Verificamos\n",
    "print(\"DataFrame final para Power BI:\")\n",
    "df_para_powerbi.head()"
   ]
  },
  {
   "cell_type": "code",
   "execution_count": 20,
   "id": "b89ada4f",
   "metadata": {},
   "outputs": [
    {
     "name": "stdout",
     "output_type": "stream",
     "text": [
      "\n",
      "Archivo 'olist_analisis.csv' creado con éxito. ¡Listo para Power BI!\n"
     ]
    }
   ],
   "source": [
    "# Guardamos el DataFrame en un archivo CSV limpio\n",
    "df_para_powerbi.to_csv('olist_analisis.csv', index=False)\n",
    "\n",
    "print(\"\\nArchivo 'olist_analisis.csv' creado con éxito. ¡Listo para Power BI!\")"
   ]
  }
 ],
 "metadata": {
  "kernelspec": {
   "display_name": "Python 3",
   "language": "python",
   "name": "python3"
  },
  "language_info": {
   "codemirror_mode": {
    "name": "ipython",
    "version": 3
   },
   "file_extension": ".py",
   "mimetype": "text/x-python",
   "name": "python",
   "nbconvert_exporter": "python",
   "pygments_lexer": "ipython3",
   "version": "3.13.3"
  }
 },
 "nbformat": 4,
 "nbformat_minor": 5
}
