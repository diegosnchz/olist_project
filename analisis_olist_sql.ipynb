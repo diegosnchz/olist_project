{
 "cells": [
  {
   "cell_type": "code",
   "execution_count": 7,
   "id": "e4d96dab",
   "metadata": {},
   "outputs": [],
   "source": [
    "import pandas as pd\n",
    "from  sqlalchemy import create_engine\n",
    "import os"
   ]
  },
  {
   "cell_type": "code",
   "execution_count": 10,
   "id": "ac7e1403",
   "metadata": {},
   "outputs": [],
   "source": [
    "# Reemplaza con tus propios datos\n",
    "user = 'root'\n",
    "password = 'yaris'  # La contraseña que estableciste al instalar MySQL\n",
    "host = '127.0.0.1'  # O 'localhost'\n",
    "database = 'olist_db' # El nombre de la base de datos que creaste\n",
    "\n",
    "# Creamos la cadena de conexión\n",
    "connection_string = f\"mysql+mysqlconnector://{user}:{password}@{host}/{database}\"\n",
    "\n",
    "# Creamos el motor de conexión con SQLAlchemy\n",
    "engine = create_engine(connection_string)"
   ]
  },
  {
   "cell_type": "code",
   "execution_count": 12,
   "id": "746479f5",
   "metadata": {},
   "outputs": [
    {
     "name": "stdout",
     "output_type": "stream",
     "text": [
      "¡Motor de conexión a MySQL creado con éxito!\n"
     ]
    }
   ],
   "source": [
    "# Importamos las librerías necesarias\n",
    "import pandas as pd\n",
    "from sqlalchemy import create_engine\n",
    "import os\n",
    "\n",
    "# --- CONFIGURA TUS DATOS AQUÍ ---\n",
    "user = 'root'\n",
    "password = 'yaris'  # ¡Cambia esto por tu contraseña real!\n",
    "host = '127.0.0.1'                  # O 'localhost'\n",
    "database = 'olist_db'               # El nombre de tu base de datos\n",
    "\n",
    "# --- CREAMOS EL MOTOR DE CONEXIÓN ---\n",
    "connection_string = f\"mysql+mysqlconnector://{user}:{password}@{host}/{database}\"\n",
    "engine = create_engine(connection_string)\n",
    "\n",
    "# Mensaje de confirmación (si no hay error, todo bien)\n",
    "print(\"¡Motor de conexión a MySQL creado con éxito!\")"
   ]
  },
  {
   "cell_type": "code",
   "execution_count": 16,
   "id": "c98b94f2",
   "metadata": {},
   "outputs": [
    {
     "name": "stdout",
     "output_type": "stream",
     "text": [
      "Buscando archivos CSV en: C:\\Users\\diego\\Desktop\\olist\\olist_project\\olist_dataset\n",
      "\n",
      "Cargando 'olist_customers_dataset.csv' en la tabla de MySQL 'customers'...\n",
      "Cargando 'olist_geolocation_dataset.csv' en la tabla de MySQL 'geolocation'...\n",
      "Cargando 'olist_orders_dataset.csv' en la tabla de MySQL 'orders'...\n",
      "Cargando 'olist_order_items_dataset.csv' en la tabla de MySQL 'order_items'...\n",
      "Cargando 'olist_order_payments_dataset.csv' en la tabla de MySQL 'order_payments'...\n",
      "Cargando 'olist_order_reviews_dataset.csv' en la tabla de MySQL 'order_reviews'...\n",
      "Cargando 'olist_products_dataset.csv' en la tabla de MySQL 'products'...\n",
      "Cargando 'olist_sellers_dataset.csv' en la tabla de MySQL 'sellers'...\n",
      "Cargando 'product_category_name_translation.csv' en la tabla de MySQL 'product_category_name_translation'...\n",
      "\n",
      "¡Proceso de carga completado!\n"
     ]
    }
   ],
   "source": [
    "# --- RUTA EXACTA A TU CARPETA DE DATOS ---\n",
    "csv_folder_path = r'C:\\Users\\diego\\Desktop\\olist\\olist_project\\olist_dataset'\n",
    "\n",
    "# --- BUCLE PARA CARGAR LOS ARCHIVOS ---\n",
    "print(f\"Buscando archivos CSV en: {csv_folder_path}\\n\")\n",
    "\n",
    "for filename in os.listdir(csv_folder_path):\n",
    "    if filename.endswith('.csv'):\n",
    "        # Ruta completa a cada archivo CSV\n",
    "        file_path = os.path.join(csv_folder_path, filename)\n",
    "        \n",
    "        # Leemos el archivo a un DataFrame\n",
    "        df = pd.read_csv(file_path)\n",
    "        \n",
    "        # Creamos un nombre de tabla limpio\n",
    "        table_name = filename.replace('olist_', '').replace('_dataset.csv', '').replace('.csv', '')\n",
    "        \n",
    "        print(f\"Cargando '{filename}' en la tabla de MySQL '{table_name}'...\")\n",
    "        \n",
    "        # Guardamos el DataFrame en MySQL usando nuestro 'engine'\n",
    "        df.to_sql(table_name, con=engine, if_exists='replace', index=False, chunksize=10000)\n",
    "        \n",
    "print(\"\\n¡Proceso de carga completado!\")"
   ]
  },
  {
   "cell_type": "code",
   "execution_count": 17,
   "id": "88076f9b",
   "metadata": {},
   "outputs": [
    {
     "name": "stdout",
     "output_type": "stream",
     "text": [
      "\n",
      "--- Tablas creadas en la base de datos 'olist_db' ---\n",
      "                  Tables_in_olist_db\n",
      "0                          customers\n",
      "1                        geolocation\n",
      "2                        order_items\n",
      "3                     order_payments\n",
      "4                      order_reviews\n",
      "5                             orders\n",
      "6  product_category_name_translation\n",
      "7                           products\n",
      "8                            sellers\n"
     ]
    }
   ],
   "source": [
    "# Verificamos las tablas que se han creado en MySQL\n",
    "query = \"SHOW TABLES;\"\n",
    "tables_df = pd.read_sql(query, engine)\n",
    "\n",
    "print(\"\\n--- Tablas creadas en la base de datos 'olist_db' ---\")\n",
    "print(tables_df)"
   ]
  }
 ],
 "metadata": {
  "kernelspec": {
   "display_name": "Python 3",
   "language": "python",
   "name": "python3"
  },
  "language_info": {
   "codemirror_mode": {
    "name": "ipython",
    "version": 3
   },
   "file_extension": ".py",
   "mimetype": "text/x-python",
   "name": "python",
   "nbconvert_exporter": "python",
   "pygments_lexer": "ipython3",
   "version": "3.13.3"
  }
 },
 "nbformat": 4,
 "nbformat_minor": 5
}
